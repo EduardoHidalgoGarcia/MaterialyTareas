{
 "cells": [
  {
   "cell_type": "markdown",
   "metadata": {},
   "source": [
    "# Chableo Exercise\n",
    "\n",
    "* 1 There are 3 doors, 1 is the winning door, 1 is chosen by the contestant\n",
    "* 2 Chabelo opens a door that is not the winning door or the one chosen by the contestant\n",
    "* 3 The contestant chooses wheteher to switch door or not\n",
    "\n",
    "## Create a simulation and compare the win rate if the contestant switches doors or not.\n",
    "import random as rand.randint(firstNumber, secondNumber) where firstNumber<=rand<=secondNumber\n",
    "rand.choice(array)"
   ]
  },
  {
   "cell_type": "code",
   "execution_count": 24,
   "metadata": {
    "collapsed": true
   },
   "outputs": [],
   "source": [
    "import random as rand\n",
    "import numpy as np"
   ]
  },
  {
   "cell_type": "code",
   "execution_count": 25,
   "metadata": {
    "collapsed": true
   },
   "outputs": [],
   "source": [
    "def ChabeloEx(PartEscojes,PremioEn): \n",
    "    ChabeloEscoje = [x for x in [1,2,3] if x != PartEscojes and x != PremioEn]\n",
    "    return(ChabeloEscoje)\n"
   ]
  },
  {
   "cell_type": "markdown",
   "metadata": {},
   "source": [
    "## Cuando no cambia de puerta el participante de la cataficcia"
   ]
  },
  {
   "cell_type": "code",
   "execution_count": 31,
   "metadata": {},
   "outputs": [],
   "source": [
    "experimentos = 100000\n",
    "a = 0\n",
    "for i in range(experimentos):\n",
    "    PartEscoje = rand.randint(1,3)\n",
    "    PremioEn = rand.randint(1,3)\n",
    "    if PartEscoje == PremioEn:\n",
    "        a = a+1\n",
    "    else:\n",
    "        a = a + 0\n",
    "        "
   ]
  },
  {
   "cell_type": "code",
   "execution_count": 27,
   "metadata": {},
   "outputs": [
    {
     "name": "stdout",
     "output_type": "stream",
     "text": [
      "0.33312\n"
     ]
    }
   ],
   "source": [
    "b = a / experimentos\n",
    "print(b)"
   ]
  },
  {
   "cell_type": "markdown",
   "metadata": {},
   "source": [
    "## Cuando cambia de puerta el participante de la cataficcia"
   ]
  },
  {
   "cell_type": "code",
   "execution_count": 32,
   "metadata": {},
   "outputs": [],
   "source": [
    "experimentos = 100000\n",
    "a = 0\n",
    "for i in range(experimentos):\n",
    "    PartEscoje = rand.randint(1,3)\n",
    "    PremioEn = rand.randint(1,3)\n",
    "    Abierta = ChabeloEx(PartEscoje, PremioEn)\n",
    "    ChabeloAbrio = np.array(Abierta[0])\n",
    "    SiCambio = [x for x in [1,2,3] if x != np.array(Abierta[0]) and x != PartEscoje]\n",
    "    Eleccion2 =np.array(SiCambio[0])\n",
    "    if PartEscoje == PremioEn:\n",
    "        a = a+0\n",
    "    else:\n",
    "        if Eleccion2 == PremioEn:\n",
    "            a=a+1\n",
    "        else:\n",
    "            a = a+0\n"
   ]
  },
  {
   "cell_type": "code",
   "execution_count": 33,
   "metadata": {},
   "outputs": [
    {
     "name": "stdout",
     "output_type": "stream",
     "text": [
      "Probabilidad si NO cambia de puerta : \n",
      "0.33312\n",
      "Probabilidad si cambia de puerta : \n",
      "0.66663\n",
      "Cambio en probabilidad por cambiar de puerta : \n",
      "0.3335099999999999\n"
     ]
    }
   ],
   "source": [
    "Probabilidad = a/experimentos\n",
    "print(\"Probabilidad si NO cambia de puerta : \")\n",
    "print(b)\n",
    "print(\"Probabilidad si cambia de puerta : \")\n",
    "print(Probabilidad)\n",
    "print(\"Cambio en probabilidad por cambiar de puerta : \")\n",
    "CambioporCambiarDePuerta = (Probabilidad - b)\n",
    "print(CambioporCambiarDePuerta)"
   ]
  }
 ],
 "metadata": {
  "kernelspec": {
   "display_name": "Python 3",
   "language": "python",
   "name": "python3"
  },
  "language_info": {
   "codemirror_mode": {
    "name": "ipython",
    "version": 3
   },
   "file_extension": ".py",
   "mimetype": "text/x-python",
   "name": "python",
   "nbconvert_exporter": "python",
   "pygments_lexer": "ipython3",
   "version": "3.6.1"
  }
 },
 "nbformat": 4,
 "nbformat_minor": 2
}
